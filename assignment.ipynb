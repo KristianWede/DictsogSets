{
 "cells": [
  {
   "cell_type": "code",
   "execution_count": 10,
   "metadata": {},
   "outputs": [],
   "source": [
    "# Board of Directors set\n",
    "board_of_directors = {\"Benny\", \"Hans\", \"Tine\", \"Mille\", \"Torben\", \"Troels\", \"Søren\"}\n",
    "\n",
    "# Management set\n",
    "management = {\"Tine\", \"Trunte\", \"Rane\"}\n",
    "\n",
    "# Employees set\n",
    "employees = {\"Niels\", \"Anna\", \"Tine\", \"Ole\", \"Trunte\", \"Bent\", \"Rane\", \"Allan\", \"Stine\", \"Claus\", \"James\", \"Lars\"}"
   ]
  },
  {
   "cell_type": "code",
   "execution_count": 11,
   "metadata": {},
   "outputs": [
    {
     "name": "stdout",
     "output_type": "stream",
     "text": [
      "The following are not employees: {'Mille', 'Benny', 'Søren', 'Troels', 'Hans', 'Torben'}\n",
      "The following are directors also employees: {'Tine'}\n",
      "The following are management and also board: {'Tine'}\n",
      "The following are management and also board: {'Tine'}\n",
      "The following are management and also Employees: {'Rane', 'Tine', 'Trunte'}\n",
      "The following are all of the club members: {'Tine'}\n",
      "The following are employees and neither memeber of board or members: {'Allan', 'Lars', 'Anna', 'Ole', 'Bent', 'James', 'Stine', 'Claus', 'Niels'}\n"
     ]
    }
   ],
   "source": [
    "#who in the board of directors is not an employee?\n",
    "notEmployees = board_of_directors.difference(employees)\n",
    "print(f\"The following are not employees: {notEmployees}\")\n",
    "\n",
    "#who in the board of directors is also an employee?\n",
    "both = board_of_directors.intersection(employees)\n",
    "print(f\"The following are directors also employees: {both}\")\n",
    "\n",
    "#how many of the management is also member of the board?\n",
    "managementAndBoard = board_of_directors.intersection(employees)\n",
    "print(f\"The following are management and also board: {managementAndBoard}\")\n",
    "\n",
    "#All members of the managent also an employee\n",
    "managementAndBoard = board_of_directors.intersection(employees)\n",
    "print(f\"The following are management and also board: {managementAndBoard}\")\n",
    "\n",
    "#All members of the management also in the board?\n",
    "allInEmployees = management.intersection(employees)\n",
    "print(f\"The following are management and also Employees: {allInEmployees}\")\n",
    "\n",
    "#Who is an employee, member of the management, and a member of the board?\n",
    "allOfTheAbove = board_of_directors.intersection(management, employees)\n",
    "print(f\"The following are all of the club members: {allOfTheAbove}\")\n",
    "\n",
    "#Who of the employee is neither a memeber or the board or management?\n",
    "neitherOne = employees.difference(board_of_directors, management)\n",
    "print(f\"The following are employees and neither memeber of board or members: {neitherOne}\")\n",
    "\n"
   ]
  },
  {
   "cell_type": "code",
   "execution_count": 18,
   "metadata": {},
   "outputs": [
    {
     "name": "stdout",
     "output_type": "stream",
     "text": [
      "Union method: {'u', 'o', 'y', 'i', 'ø', 'æ', 'e', 'å', 'a'}\n",
      "Union method Operator: {'u', 'o', 'y', 'i', 'ø', 'æ', 'e', 'å', 'a'}\n",
      "Symmetric Difference method: {'ø', 'æ', 'å'}\n",
      "Symmetric Difference Operator method: {'ø', 'æ', 'å'}\n",
      "Difference method: {'æ', 'å', 'ø'}\n",
      "Difference Operator method: {'æ', 'å', 'ø'}\n",
      "Intersection method: {'u', 'o', 'y', 'i', 'e', 'a'}\n",
      "Intersection Operator method: {'u', 'o', 'y', 'i', 'e', 'a'}\n"
     ]
    }
   ],
   "source": [
    "\n",
    "#Create a list\n",
    "listTuples = {'a': 'Alpha', 'b': 'Beta', 'g': 'Gamma'}\n",
    "\n",
    "list1 = {'a', 'e', 'i', 'o', 'u', 'y'}\n",
    "\n",
    "list2 = {'a', 'e', 'i', 'o', 'u', 'y', 'æ' ,'ø', 'å'}\n",
    "\n",
    "allTogether = list1.union(list2)\n",
    "print(f\"Union method: {allTogether}\")\n",
    "\n",
    "allTogetherOp = list1 | list2\n",
    "print(f\"Union method Operator: {allTogether}\")\n",
    "\n",
    "symmDiff = list2.symmetric_difference(list1)\n",
    "print(f\"Symmetric Difference method: {symmDiff}\")\n",
    "\n",
    "symmDiffOp = list2 ^ list1\n",
    "print(f\"Symmetric Difference Operator method: {symmDiff}\")\n",
    "\n",
    "diff = list2.difference(list1)\n",
    "print(f\"Difference method: {diff}\")\n",
    "\n",
    "diffOp = list2 - list1\n",
    "print(f\"Difference Operator method: {diff}\")\n",
    "\n",
    "intersex = list2.intersection(list1)\n",
    "print(f\"Intersection method: {intersex}\")\n",
    "\n",
    "intersexOp = list2 & list1\n",
    "print(f\"Intersection Operator method: {intersex}\")\n"
   ]
  },
  {
   "cell_type": "code",
   "execution_count": 24,
   "metadata": {},
   "outputs": [
    {
     "name": "stdout",
     "output_type": "stream",
     "text": [
      "1985/3/8\n",
      "Day: 8, Month: MAR, Year: 85\n"
     ]
    }
   ],
   "source": [
    "#Date Decoder;\n",
    "\n",
    "month_to_number = {\n",
    "    'JAN': '1',\n",
    "    'FEB': '2',\n",
    "    'MAR': '3',\n",
    "    'APR': '4',\n",
    "    'MAY': '5',\n",
    "    'JUN': '6',\n",
    "    'JUL': '7',\n",
    "    'AUG': '8',\n",
    "    'SEP': '9',\n",
    "    'OCT': '10',\n",
    "    'NOV': '11',\n",
    "    'DEC': '12'\n",
    "}\n",
    "\n",
    "def split_date(date_string):\n",
    "    return date_string.split('-')\n",
    "\n",
    "def formatDate(date_string):\n",
    "    day, month, year = split_date(date_string)\n",
    "\n",
    "    if int(year) > 23:\n",
    "        year = \"19\" + year\n",
    "    else:\n",
    "        year = \"20\" + year\n",
    "\n",
    "    month_num = month_to_number.get(month)\n",
    "\n",
    "    return year + \"/\" + month_num + \"/\" + day\n",
    "\n",
    "# Example usage:\n",
    "date_string = \"8-MAR-85\"\n",
    "\n",
    "print(formatDate(date_string))\n",
    "\n",
    "print(f\"Day: {day}, Month: {month}, Year: {year}\")"
   ]
  },
  {
   "cell_type": "code",
   "execution_count": 25,
   "metadata": {},
   "outputs": [
    {
     "name": "stdout",
     "output_type": "stream",
     "text": [
      "Friends who have not RSVP'd: {'David', 'Alice'}\n",
      "Friends who were not invited but RSVP'd: {'Eve'}\n",
      "Friends who were invited and RSVP'd: {'Bob', 'Charlie'}\n"
     ]
    }
   ],
   "source": [
    "#Party Exercise\n",
    "\n",
    "\n",
    "def party_lists(invited, rsvp):\n",
    "    # Friends who have not RSVP'd\n",
    "    not_rsvpd = invited.difference(rsvp)\n",
    "\n",
    "    # Friends who were not invited but RSVP'd\n",
    "    not_invited = rsvp.difference(invited)\n",
    "\n",
    "    # Friends who are common in both lists (invited and RSVP'd)\n",
    "    common = invited.intersection(rsvp)\n",
    "\n",
    "    return not_rsvpd, not_invited, common\n",
    "\n",
    "# Example lists\n",
    "invited_friends = {\"Alice\", \"Bob\", \"Charlie\", \"David\"}\n",
    "rsvp_friends = {\"Charlie\", \"Eve\", \"Bob\"}\n",
    "\n",
    "not_rsvpd, not_invited, common = party_lists(invited_friends, rsvp_friends)\n",
    "\n",
    "print(f\"Friends who have not RSVP'd: {not_rsvpd}\")\n",
    "print(f\"Friends who were not invited but RSVP'd: {not_invited}\")\n",
    "print(f\"Friends who were invited and RSVP'd: {common}\")"
   ]
  },
  {
   "cell_type": "code",
   "execution_count": 26,
   "metadata": {},
   "outputs": [
    {
     "name": "stdout",
     "output_type": "stream",
     "text": [
      "Students with grades higher than 85: Alice, Bob, Charlie, David\n"
     ]
    }
   ],
   "source": [
    "student_grades = {\n",
    "    \"Alice\": 82,\n",
    "    \"Bob\": 90,\n",
    "    \"Charlie\": 78,\n",
    "    \"David\": 88\n",
    "}\n",
    "\n",
    "grades_to_update = {\n",
    "    \"Alice\": 87,\n",
    "    \"Charlie\": 91\n",
    "}\n",
    "\n",
    "def updateGrade(OldGrades,newGrades):\n",
    "    return OldGrades.update(newGrades)\n",
    "\n",
    "def studentsAbove85Grade(grades):\n",
    "    return [student for student, grade in grades.items() if grade > 85]\n",
    "\n",
    "# Update the grades\n",
    "updateGrade(student_grades, grades_to_update)\n",
    "\n",
    "# Get students with grades above 85 and print them\n",
    "high_achievers = studentsAbove85Grade(student_grades)\n",
    "print(\"Students with grades higher than 85:\", \", \".join(high_achievers))\n",
    "\n",
    "        \n"
   ]
  }
 ],
 "metadata": {
  "kernelspec": {
   "display_name": "Python 3",
   "language": "python",
   "name": "python3"
  },
  "language_info": {
   "codemirror_mode": {
    "name": "ipython",
    "version": 3
   },
   "file_extension": ".py",
   "mimetype": "text/x-python",
   "name": "python",
   "nbconvert_exporter": "python",
   "pygments_lexer": "ipython3",
   "version": "3.11.4"
  },
  "orig_nbformat": 4
 },
 "nbformat": 4,
 "nbformat_minor": 2
}
